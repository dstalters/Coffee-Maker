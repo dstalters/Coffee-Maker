{
 "cells": [
  {
   "cell_type": "markdown",
   "metadata": {},
   "source": [
    "### Import Needed Libraries"
   ]
  },
  {
   "cell_type": "code",
   "execution_count": 9,
   "metadata": {
    "collapsed": true
   },
   "outputs": [],
   "source": [
    "import numpy as np\n",
    "import math\n",
    "import matplotlib.pyplot as plt"
   ]
  },
  {
   "cell_type": "markdown",
   "metadata": {},
   "source": [
    "### Geometry Definitions of Hot Water Tank"
   ]
  },
  {
   "cell_type": "code",
   "execution_count": 85,
   "metadata": {
    "collapsed": true
   },
   "outputs": [],
   "source": [
    "# Tank dimensions\n",
    "diameter = 2.25\n",
    "\n",
    "height = 7.5\n",
    "\n",
    "tower_overHeight = 2.0\n",
    "\n",
    "width = 2\n",
    "length = 4\n",
    "thickness = 0.125\n",
    "\n",
    "shape = \"rectangular\"\n",
    "\n",
    "total_height = tower_overHeight + 8\n",
    "\n",
    "# Heating element dimensions\n",
    "cartridge_diameter = 0.5\n",
    "cartridge_height = 7\n",
    "wattage = 1500\n",
    "\n",
    "d = 0.25*2.54/100 # convert to m\n",
    "length_pipe = 0.3 # 10cm\n",
    "Cv = 4.8\n",
    "rho = 965.31 # density of water kg/m^3 at 90degC\n",
    "mu = 0.0003142 # viscosity of water at 90degC\n",
    "xi = 4.08\n",
    "grav = 9.81\n",
    "relative_roughness = 0.005"
   ]
  },
  {
   "cell_type": "markdown",
   "metadata": {},
   "source": [
    "### Thermodynamic Requirements\n",
    "\n",
    "#### Next the machine will determine the fractions of water to be delivered to the filter at each of the 4 stages of coffee filtering. Please see Blue Bottle tips (https://bluebottlecoffee.com/preparation-guides/pour-over).\n"
   ]
  },
  {
   "cell_type": "code",
   "execution_count": 86,
   "metadata": {
    "collapsed": false
   },
   "outputs": [
    {
     "name": "stdout",
     "output_type": "stream",
     "text": [
      "[120, 180, 200, 200]\n",
      "Minimum starting water volume:\n",
      "198.80668257756574\n"
     ]
    }
   ],
   "source": [
    "pour = [60, 90, 100, 100]\n",
    "rest = [30, 45, 45, 45]\n",
    "time = [15, 15, 20, 20]\n",
    "\n",
    "setting = \"double\"\n",
    "\n",
    "# Only if trying for double cup performance\n",
    "if setting == \"double\":\n",
    "    pour = [i * 2 for i in pour]\n",
    "    rest = [i * 1.5 for i in rest]\n",
    "    time = [i * 2 for i in rest]\n",
    "\n",
    "\n",
    "m = np.zeros(len(pour))\n",
    "m[0] = pour[0]\n",
    "\n",
    "for i in range(len(m)-1):\n",
    "    m[i+1] = pour[i+1] - ((wattage * (rest[i]-pour[i]*60/400)) / (4.19 * 75)) # leftover mass\n",
    "    #print((wattage * rest[i]) / (4.19 * 75))\n",
    "\n",
    "min_volume = sum(m)\n",
    "print(pour)\n",
    "\n",
    "print(\"Minimum starting water volume:\")\n",
    "print(min_volume)"
   ]
  },
  {
   "cell_type": "markdown",
   "metadata": {},
   "source": [
    "### Compute Usable Internal Volume in Water Tank"
   ]
  },
  {
   "cell_type": "code",
   "execution_count": 87,
   "metadata": {
    "collapsed": false
   },
   "outputs": [
    {
     "name": "stdout",
     "output_type": "stream",
     "text": [
      "Total Volume:\n",
      "784.0276588041164\n",
      "Flowable Volume:\n",
      "210.25382626159637\n",
      "Minimum Required Water:\n",
      "772.5805151200858\n",
      "Unusable Water:\n",
      "573.77383254252\n"
     ]
    }
   ],
   "source": [
    "if shape == \"rectangular\": # selects the shape of the tank from the provided user inputs\n",
    "    volume = (width - 2*thickness) * 2.54 * (length - 2*thickness) * 2.54 * height * 2.54\n",
    "else:\n",
    "    volume = math.pi*((diameter*2.54/2)**2)*(height*2.54)\n",
    "\n",
    "        \n",
    "cartridge_volume = math.pi*((cartridge_diameter*2.54/2)**2)*(cartridge_height*2.54)\n",
    "\n",
    "empty_volume = volume - cartridge_volume\n",
    "\n",
    "upper_volume = volume * (1 - cartridge_height/height)\n",
    "lower_volume = empty_volume - upper_volume\n",
    "\n",
    "flowable_volume = lower_volume * (1 - (height - tower_overHeight)/cartridge_height) + upper_volume\n",
    "unflowable_water = lower_volume * (height - tower_overHeight)/cartridge_height\n",
    "req_water = min_volume + lower_volume * (height - tower_overHeight)/cartridge_height\n",
    "\n",
    "print(\"Total Volume:\")\n",
    "print(empty_volume)\n",
    "\n",
    "print(\"Flowable Volume:\")\n",
    "print(flowable_volume)\n",
    "\n",
    "print(\"Minimum Required Water:\")\n",
    "print(req_water)\n",
    "\n",
    "print(\"Unusable Water:\")\n",
    "print(unflowable_water)\n"
   ]
  },
  {
   "cell_type": "markdown",
   "metadata": {},
   "source": [
    "### Initialize Variables for Active Pour Time-Step Iteration Sequence"
   ]
  },
  {
   "cell_type": "code",
   "execution_count": 88,
   "metadata": {
    "collapsed": false
   },
   "outputs": [],
   "source": [
    "flow_rate = np.zeros(1000)\n",
    "flow_rate[0] = 1\n",
    "\n",
    "current_water = np.zeros(1000)\n",
    "current_water[0] = start_water_volume #defined in millimeters\n",
    "\n",
    "water_height = np.zeros(1000)\n",
    "\n",
    "actual_pour = np.zeros(len(m))\n",
    "\n",
    "Q = np.zeros(1000)\n",
    "v = np.zeros(1000)\n",
    "Pp = np.zeros(1000)\n",
    "Pf = np.zeros(1000)\n",
    "diff = np.zeros(1000)\n",
    "friction_losses = np.zeros(1000)\n",
    "\n",
    "i = 0"
   ]
  },
  {
   "cell_type": "markdown",
   "metadata": {},
   "source": [
    "### Report Active Design Constraints To User"
   ]
  },
  {
   "cell_type": "code",
   "execution_count": 89,
   "metadata": {
    "collapsed": false
   },
   "outputs": [
    {
     "name": "stdout",
     "output_type": "stream",
     "text": [
      "Water volume minimum amount driven by wattage of heater.\n",
      "Starting water volume:\n",
      "772.5805151200858\n",
      "Additional Volume Available:  11.447143684030607\n",
      "Starting water height: 7.393554656489155\n"
     ]
    }
   ],
   "source": [
    "if req_water < lower_volume:\n",
    "    start_water_volume = lower_volume\n",
    "    print(\"Adjusted water to submerge heating element.\")\n",
    "    print(\"New starting water volume:\")\n",
    "    print(start_water_volume)\n",
    "else:\n",
    "    start_water_volume = req_water\n",
    "    print(\"Water volume minimum amount driven by wattage of heater.\")\n",
    "    print(\"Starting water volume:\")\n",
    "    print(start_water_volume)\n",
    "\n",
    "additional_volume = empty_volume - start_water_volume\n",
    "print(\"Additional Volume Available: \",additional_volume)\n",
    "\n",
    "added_water = 0\n",
    "# add water to initial water to increase head height\n",
    "if added_water > 0:\n",
    "    start_water_volume = start_water_volume + added_water\n",
    "    print(\"New starting water volume (user added):\", start_water_volume)\n",
    "    \n",
    "if current_water[0] >= lower_volume:\n",
    "    water_height[0] = cartridge_height + (current_water[0]-lower_volume)/upper_volume * (height - cartridge_height)\n",
    "else:\n",
    "    print(\"Heater not submerged!\")\n",
    "    water_height[0] = (current_water[0]/lower_volume) * cartridge_height\n",
    "    \n",
    "print(\"Starting water height:\",water_height[0])\n",
    "\n",
    "if cartridge_height >= height:\n",
    "    print(\"Check cartridge height interference.\")\n",
    "    \n",
    "if start_water_volume > empty_volume:\n",
    "    print(\"Need a bigger tank.\")\n",
    "    \n",
    "if total_height > 17:\n",
    "    print(\"Coffee machine is too tall.\")"
   ]
  },
  {
   "cell_type": "markdown",
   "metadata": {},
   "source": [
    "### Iterate"
   ]
  },
  {
   "cell_type": "code",
   "execution_count": 90,
   "metadata": {
    "collapsed": false
   },
   "outputs": [
    {
     "name": "stdout",
     "output_type": "stream",
     "text": [
      "Pour volume [ml] 1 : 120.87287709631778\n",
      "Length of Pour [s]: 11\n",
      "Pour volume [ml] 2 : 180.0568644813717\n",
      "Length of Pour [s]: 19\n",
      "Pour volume [ml] 3 : 198.3631743162697\n",
      "Length of Pour [s]: 28\n",
      "Not enough water poured in twice the time!!\n",
      "Pour volume [ml] 4 : 178.5447729781256\n",
      "Length of Pour [s]: 26\n",
      "Not enough water poured in twice the time!!\n"
     ]
    }
   ],
   "source": [
    "\n",
    "flow_rate[0] = 1\n",
    "\n",
    "current_water[0] = start_water_volume #defined in millimeters\n",
    "\n",
    "for j in range(len(m)):\n",
    "    \n",
    "    if j > 0:\n",
    "        # add water for filling up tank\n",
    "        current_water[i] = current_water[i] + (pour[j] - m[j])\n",
    "        # check if the added water would increase volume to something larger than the tank can accomodate\n",
    "        if current_water[i] > empty_volume:\n",
    "            # if upper limit of newly heated water is amount is too large decrease to fit in container (could also decrease wattage)\n",
    "            current_water[i] = empty_volume - 15\n",
    "            #print(\"Heater more than powerful - reduced incoming water.\")\n",
    "    \n",
    "    interval_water = current_water[i]\n",
    "    \n",
    "    if current_water[i] >= lower_volume:\n",
    "        water_height[i] = cartridge_height + (current_water[i]-lower_volume)/upper_volume * (height - cartridge_height)\n",
    "    else:\n",
    "        # water does not fully submerge heating element!\n",
    "        print(\"Heater not fully submerged!\")\n",
    "        water_height[i] = (current_water[i]/lower_volume) * cartridge_height\n",
    "        \n",
    "    head_water_height = tower_overHeight - height + water_height[i]\n",
    "    \n",
    "    k = 0 # stand in for actual time - each step is assumed to be 1 sec\n",
    "\n",
    "    while k < 2*time[j] and interval_water - current_water[i] < pour[j] and head_water_height > 0.01:\n",
    "\n",
    "        count = 0 # counter to limit the number of times the code will iterate on a single time step\n",
    "        \n",
    "        Q = 1 # initial flow rate to pass thru the while logic check\n",
    "        \n",
    "        if k > 0:\n",
    "            Q_prev = flow_rate[i-1] # use previous time step flow rate to be closer to likely converged solution at current timestep\n",
    "        else:\n",
    "            Q_prev = 5 # if this is the first time step, use a different Q_prev value to get thru the while logic\n",
    "            \n",
    "        head_water_height = tower_overHeight - height + water_height[i] # head water height at a time step will be constant\n",
    "        head_pressure = rho * grav * head_water_height * 2.54/100/6894.76 # only need to calculate once\n",
    "                \n",
    "        unit_add = -0.5\n",
    "                \n",
    "        while abs(Q - Q_prev) > 0.01 and count < 200:\n",
    "\n",
    "            count += 1\n",
    "\n",
    "            diff[count] = abs(Q - Q_prev)\n",
    "            \n",
    "            if diff[count] > diff[count-1]:\n",
    "                # flip directions and tighten increment\n",
    "                unit_add = unit_add * -0.5\n",
    "                \n",
    "            Q_prev = Q_prev + unit_add\n",
    "\n",
    "            v = Q_prev/1000000 * 4 / (math.pi * (d**2)) # calculate flow velocity at exit of pipe\n",
    "\n",
    "            Re = d * v * rho / mu\n",
    "\n",
    "            a = 1 / (1 + (Re/2720)**9)\n",
    "            b = 1 / (1 + (Re/(160/relative_roughness))**2)\n",
    "\n",
    "            f = 1/ ((Re/64)**a * (1.8*np.log10(Re/6.8))**(2*(1-a)*b) * (2.0 * np.log10(3.7/relative_roughness))**(2*(1-a)*(1-b))) # Cheng 2008\n",
    "\n",
    "            Pp = f * length_pipe/d * rho/2 * v**2\n",
    "\n",
    "            Pf = xi *  rho/2 * v**2\n",
    "\n",
    "            friction_losses = (Pf + Pp) * 0.000145038\n",
    "\n",
    "            if friction_losses < head_pressure:\n",
    "                Q = Cv * math.sqrt(head_pressure - friction_losses) * (3785.41/60)\n",
    "                \n",
    "        flow_rate[i] = Q\n",
    "\n",
    "        current_water[i+1] = current_water[i] - flow_rate[i]\n",
    "\n",
    "        if current_water[i] >= lower_volume:\n",
    "            water_height[i+1] = cartridge_height + (current_water[i]-lower_volume)/upper_volume * (height - cartridge_height)\n",
    "        else:\n",
    "            water_height[i+1] = (current_water[i]/lower_volume) * cartridge_height\n",
    "\n",
    "        i += 1\n",
    "        k += 1\n",
    "\n",
    "    actual_pour[j] = interval_water - current_water[i]\n",
    "\n",
    "    print(\"Pour volume [ml]\",j+1,\":\",actual_pour[j])\n",
    "    print(\"Length of Pour [s]:\",k)\n",
    "    if k > time[j]:\n",
    "        print(\"Increase head height for higher water flow.\")\n",
    "    if actual_pour[j] < pour[j]:\n",
    "        print(\"Not enough water poured in twice the time!!\")\n",
    "        "
   ]
  },
  {
   "cell_type": "markdown",
   "metadata": {},
   "source": [
    "### Plot Process Data"
   ]
  },
  {
   "cell_type": "code",
   "execution_count": 91,
   "metadata": {
    "collapsed": false
   },
   "outputs": [
    {
     "data": {
      "image/png": "[encoded data removed]",
      "text/plain": [
       "<matplotlib.figure.Figure at 0x194b6836518>"
      ]
     },
     "metadata": {},
     "output_type": "display_data"
    },
    {
     "data": {
      "image/png": "[encoded data removed]",
      "text/plain": [
       "<matplotlib.figure.Figure at 0x194b6c5f588>"
      ]
     },
     "metadata": {},
     "output_type": "display_data"
    }
   ],
   "source": [
    "plt.plot(water_height - (height - tower_overHeight),color = 'b')\n",
    "plt.plot([0, 100],[cartridge_height- (height - tower_overHeight),cartridge_height- (height - tower_overHeight)],'--',color = 'r')\n",
    "plt.xlim(0, 100)\n",
    "plt.ylim(-0.1,3)\n",
    "plt.title('Instantaneous Head Height in Water Tank v. Time')\n",
    "plt.xlabel('time [s]')\n",
    "plt.ylabel('Head Height in Tank [in.]')\n",
    "plt.legend(['Water Level','Heating Element Height'])\n",
    "plt.show()\n",
    "\n",
    "plt.plot(current_water[0]-current_water,color = 'b')\n",
    "plt.plot([0,25],[120,120],'--',color = 'r')\n",
    "plt.plot([25,25],[0,120],'--',color = 'r')\n",
    "plt.xlim(0, 100)\n",
    "plt.ylim(0, 300)\n",
    "plt.title('Pour Volume v. Time')\n",
    "plt.ylabel('Volume poured [ml]')\n",
    "plt.xlabel('time [s]')\n",
    "plt.legend(['Water','First Pour Volume v. Time Target'])\n",
    "plt.show()"
   ]
  },
  {
   "cell_type": "code",
   "execution_count": null,
   "metadata": {
    "collapsed": true
   },
   "outputs": [],
   "source": []
  }
 ],
 "metadata": {
  "kernelspec": {
   "display_name": "Python 3",
   "language": "python",
   "name": "python3"
  },
  "language_info": {
   "codemirror_mode": {
    "name": "ipython",
    "version": 3
   },
   "file_extension": ".py",
   "mimetype": "text/x-python",
   "name": "python",
   "nbconvert_exporter": "python",
   "pygments_lexer": "ipython3",
   "version": "3.6.0"
  }
 },
 "nbformat": 4,
 "nbformat_minor": 2
}
