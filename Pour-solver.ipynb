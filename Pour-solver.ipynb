{
 "cells": [
  {
   "cell_type": "markdown",
   "metadata": {},
   "source": [
    "#### Everyone it would seem has been working on a quarantine project to keep them busy and sane these last months. Not to be left out, I am sharing a portion of what I have been working on.\n",
    "\n",
    "#### I have been interested in making a “pour over” coffee maker for several years now but didn’t want to just throw together some 3D printer looking contraption that would eat up all my precious one-bedroom apartment counter space. Instead I opted to go for the impractical, dream shot coffee maker that would (and this was non-negotiable since all my ex-barista friends would tell me so) make a cup of coffee at exactly the right temperature (measured at the filter), exactly the right bean-to-water ratio (measured to the nearest gram), exactly the right pour pattern (no sprinklers or concentric circles… had to be a spiral), and at exactly the right flow rate (measured to the nearest ml/s). Additionally, the water flow I determined must be laminar when it exited the pour spout just so that it all looked very nice.\n",
    "\n",
    "#### This was to my naive mind totally do-able. And to an extent it still is, but 1000 dollars and 100+ hrs. later (and still counting) I can say with certainty that it is now unlikely I will ever do better (financially and sanity-wise) than if I had just gone to my friend’s shop (difficult in quarantine) and bought that 5 dollar cup of coffee every day for the rest of my life. But here I am. Soon to have an excellent, hands-free coffee maker but still using my french press every morning...\n",
    "\n",
    "#### This portion is what I came up with to eliminate a flow meter (not enough room to package in the 2”x4” space available in the tower) from the hot water supply line. It was initially written in Python for easy design visualization. It is, however, totally executable on a C++ Teensy 4.0 (no exclusive NumPy or other non-portable methods used) as it will be implemented in the final coffee maker.\n"
   ]
  },
  {
   "cell_type": "markdown",
   "metadata": {},
   "source": [
    "### Import Needed Libraries"
   ]
  },
  {
   "cell_type": "code",
   "execution_count": null,
   "metadata": {
    "collapsed": true
   },
   "outputs": [],
   "source": [
    "import numpy as np\n",
    "import math\n",
    "import matplotlib.pyplot as plt\n",
    "from scipy.interpolate import interp1d"
   ]
  },
  {
   "cell_type": "markdown",
   "metadata": {},
   "source": [
    "### Geometry Definitions of Hot Water Tank"
   ]
  },
  {
   "cell_type": "code",
   "execution_count": null,
   "metadata": {
    "collapsed": true
   },
   "outputs": [],
   "source": [
    "# Tank dimensions\n",
    "diameter = 2.25\n",
    "\n",
    "height = 7.5\n",
    "\n",
    "tower_overHeight = 2.5\n",
    "\n",
    "width = 2\n",
    "length = 4\n",
    "thickness = 0.18\n",
    "\n",
    "shape = \"rectangular\"\n",
    "\n",
    "total_height = tower_overHeight + 8\n",
    "\n",
    "# Heating element dimensions\n",
    "cartridge_diameter = 0.5\n",
    "cartridge_height = 7\n",
    "wattage = 1500\n",
    "\n",
    "d = 0.25*2.54/100 # convert to m\n",
    "length_pipe = 0.3 # 10cm\n",
    "Cv = 4.8\n",
    "rho = 965.31 # density of water kg/m^3 at 90degC\n",
    "mu = 0.0003142 # viscosity of water at 90degC\n",
    "xi = 4.08\n",
    "grav = 9.81\n",
    "relative_roughness = 0.005"
   ]
  },
  {
   "cell_type": "markdown",
   "metadata": {},
   "source": [
    "### Thermodynamic Requirements\n",
    "\n",
    "#### Next the machine will determine the fractions of water to be delivered to the filter at each of the 4 stages of coffee filtering. Please see Blue Bottle tips (https://bluebottlecoffee.com/preparation-guides/pour-over).\n"
   ]
  },
  {
   "cell_type": "code",
   "execution_count": null,
   "metadata": {
    "collapsed": true
   },
   "outputs": [],
   "source": [
    "pour = [60, 90, 100, 100]\n",
    "rest = [30, 45, 45, 45]\n",
    "time = [15, 15, 20, 20]\n",
    "\n",
    "setting = \"double\"\n",
    "\n",
    "# Only if trying for double cup performance\n",
    "if setting == \"double\":\n",
    "    pour = [i * 2 for i in pour]\n",
    "    rest = [i * 1.5 for i in rest]\n",
    "    time = [i * 2 for i in rest]\n",
    "\n",
    "\n",
    "m = np.zeros(len(pour))\n",
    "m[0] = pour[0]\n",
    "\n",
    "for i in range(len(m)-1):\n",
    "    m[i+1] = pour[i+1] - ((wattage * (rest[i]-pour[i]*60/400)) / (4.19 * 75)) # leftover mass\n",
    "    #print((wattage * rest[i]) / (4.19 * 75))\n",
    "\n",
    "min_volume = sum(m)\n",
    "print(pour)\n",
    "\n",
    "print(\"Minimum starting water volume:\")\n",
    "print(min_volume)"
   ]
  },
  {
   "cell_type": "markdown",
   "metadata": {},
   "source": [
    "### Compute Usable Internal Volume in Water Tank"
   ]
  },
  {
   "cell_type": "code",
   "execution_count": null,
   "metadata": {
    "collapsed": true
   },
   "outputs": [],
   "source": [
    "if shape == \"rectangular\":\n",
    "    volume = (width - 2*thickness) * 2.54 * (length - 2*thickness) * 2.54 * height * 2.54\n",
    "else:\n",
    "    volume = math.pi*((diameter*2.54/2)**2)*(height*2.54)\n",
    "\n",
    "        \n",
    "cartridge_volume = math.pi*((cartridge_diameter*2.54/2)**2)*(cartridge_height*2.54)\n",
    "\n",
    "empty_volume = volume - cartridge_volume\n",
    "\n",
    "upper_volume = volume * (1 - cartridge_height/height)\n",
    "lower_volume = empty_volume - upper_volume\n",
    "\n",
    "flowable_volume = lower_volume * (1 - (height - tower_overHeight)/cartridge_height) + upper_volume\n",
    "unflowable_water = lower_volume * (height - tower_overHeight)/cartridge_height\n",
    "req_water = min_volume + lower_volume * (height - tower_overHeight)/cartridge_height\n",
    "\n",
    "print(\"Total Volume:\")\n",
    "print(empty_volume)\n",
    "\n",
    "print(\"Flowable Volume:\")\n",
    "print(flowable_volume)\n",
    "\n",
    "print(\"Minimum Required Water:\")\n",
    "print(req_water)\n",
    "\n",
    "print(\"Unusable Water:\")\n",
    "print(unflowable_water)\n"
   ]
  },
  {
   "cell_type": "markdown",
   "metadata": {},
   "source": [
    "### Initialize Variables for Active Pour Time-Step Iteration Sequence"
   ]
  },
  {
   "cell_type": "code",
   "execution_count": null,
   "metadata": {
    "collapsed": true
   },
   "outputs": [],
   "source": [
    "flow_rate = np.zeros(1000)\n",
    "flow_rate[0] = 1\n",
    "\n",
    "current_water = np.zeros(1000)\n",
    "current_water[0] = start_water_volume #defined in millimeters\n",
    "\n",
    "water_height = np.zeros(1000)\n",
    "\n",
    "actual_pour = np.zeros(len(m))\n",
    "\n",
    "Q = np.zeros(1000)\n",
    "v = np.zeros(1000)\n",
    "Pp = np.zeros(1000)\n",
    "Pf = np.zeros(1000)\n",
    "diff = np.zeros(1000)\n",
    "friction_losses = np.zeros(1000)\n",
    "\n",
    "i = 0"
   ]
  },
  {
   "cell_type": "markdown",
   "metadata": {},
   "source": [
    "### Report Active Design Constraints To User"
   ]
  },
  {
   "cell_type": "code",
   "execution_count": null,
   "metadata": {
    "collapsed": true
   },
   "outputs": [],
   "source": [
    "if req_water < lower_volume:\n",
    "    start_water_volume = lower_volume\n",
    "    print(\"Adjusted water to submerge heating element.\")\n",
    "    print(\"New starting water volume:\")\n",
    "    print(start_water_volume)\n",
    "else:\n",
    "    start_water_volume = req_water\n",
    "    print(\"Water volume minimum amount driven by wattage of heater.\")\n",
    "    print(\"Starting water volume:\")\n",
    "    print(start_water_volume)\n",
    "\n",
    "additional_volume = empty_volume - start_water_volume\n",
    "print(\"Additional Volume Available: \",additional_volume)\n",
    "\n",
    "added_water = 0\n",
    "# add water to initial water to increase head height\n",
    "if added_water > 0:\n",
    "    start_water_volume = start_water_volume + added_water\n",
    "    print(\"New starting water volume (user added):\", start_water_volume)\n",
    "    \n",
    "    if current_water[0] >= lower_volume:\n",
    "    water_height[0] = cartridge_height + (current_water[0]-lower_volume)/upper_volume * (height - cartridge_height)\n",
    "else:\n",
    "    print(\"Heater not submerged!\")\n",
    "    water_height[0] = (current_water[0]/lower_volume) * cartridge_height\n",
    "    \n",
    "print(\"Starting water height:\",water_height[0])\n",
    "\n",
    "if cartridge_height >= height:\n",
    "    print(\"Check cartridge height interference.\")\n",
    "    \n",
    "if start_water_volume > empty_volume:\n",
    "    print(\"Need a bigger tank.\")\n",
    "    \n",
    "if total_height > 17:\n",
    "    print(\"Coffee machine is too tall.\")"
   ]
  },
  {
   "cell_type": "markdown",
   "metadata": {},
   "source": [
    "### Iterate"
   ]
  },
  {
   "cell_type": "code",
   "execution_count": null,
   "metadata": {
    "collapsed": true
   },
   "outputs": [],
   "source": [
    "for j in range(len(m)):\n",
    "    \n",
    "    if j > 0:\n",
    "        # add water for filling up tank\n",
    "        current_water[i] = current_water[i] + (pour[j] - m[j])\n",
    "        # check if the added water would increase volume to something larger than the tank can accomodate\n",
    "        if current_water[i] > empty_volume:\n",
    "            # if upper limit of newly heated water is amount is too large decrease to fit in container (could also decrease wattage)\n",
    "            current_water[i] = empty_volume - 15\n",
    "            #print(\"Heater more than powerful - reduced incoming water.\")\n",
    "    \n",
    "    interval_water = current_water[i]\n",
    "    \n",
    "    if current_water[i] >= lower_volume:\n",
    "        water_height[i] = cartridge_height + (current_water[i]-lower_volume)/upper_volume * (height - cartridge_height)\n",
    "    else:\n",
    "        # water does not fully submerge heating element!\n",
    "        print(\"Heater not fully submerged!\")\n",
    "        water_height[i] = (current_water[i]/lower_volume) * cartridge_height\n",
    "        \n",
    "    head_water_height = tower_overHeight - height + water_height[i]\n",
    "    \n",
    "    k = 0 # stand in for actual time - each step is assumed to be 1 sec\n",
    "\n",
    "    while k < 2*time[j] and interval_water - current_water[i] < pour[j] and head_water_height > 0.01:\n",
    "\n",
    "        count = 0 # counter to limit the number of times the code will iterate on a single time step\n",
    "        \n",
    "        Q = 1 # initial flow rate to pass thru the while logic check\n",
    "        \n",
    "        if k > 0:\n",
    "            Q_prev = flow_rate[i-1] # use previous time step flow rate to be closer to likely converged solution at current timestep\n",
    "        else:\n",
    "            Q_prev = 5 # if this is the first time step, use a different Q_prev value to get thru the while logic\n",
    "            \n",
    "        head_water_height = tower_overHeight - height + water_height[i] # head water height at a time step will be constant\n",
    "        head_pressure = rho * grav * head_water_height * 2.54/100/6894.76 # only need to calculate once\n",
    "                \n",
    "        unit_add = -0.5 # convergence varaible used to \"narrow in\" on the converged flow rate. Later halved and inverted. unit [ml/s]\n",
    "                \n",
    "        while abs(Q - Q_prev) > 0.01 and count < 200:\n",
    "\n",
    "            count += 1 # count used to prevent unsolvable, divergent, or very unstable flow points from preventing solution report\n",
    "\n",
    "            diff[count] = abs(Q - Q_prev) # flow rate comparison between previous flow rate solution and current time-step temporary solution. Physical problem states this would not likely be large step jump.\n",
    "            \n",
    "            if diff[count] > diff[count-1]: # if current solution results in larger difference, \"zero\" of function passed and need to reverse convergence direction and iterate over smaller changes\n",
    "                # flip directions and tighten increment\n",
    "                unit_add = unit_add * -0.5\n",
    "                \n",
    "            Q_prev = Q_prev + unit_add\n",
    "\n",
    "            v = Q_prev/1000000 * 4 / (math.pi * (d**2)) # calculate flow velocity at exit of pipe\n",
    "\n",
    "            Re = d * v * rho / mu # calculate internal pipe Reynolds Number\n",
    "\n",
    "            a = 1 / (1 + (Re/2712)**8.4) # coefficient \n",
    "            b = 1 / (1 + (Re/(150/relative_roughness))**1.8) # coefficient\n",
    "\n",
    "            f = (64/Re)**a * (0.75*np.log(Re/5.37))**(2*(a-1)*b) * (0.88 * np.log(6.82/relative_roughness))**(2*(a-1)*(1-b)) # friction factor\n",
    "\n",
    "            Pp = f * length_pipe/d * rho/2 * v**2\n",
    "\n",
    "            Pf = xi *  rho/2 * v**2\n",
    "\n",
    "            friction_losses = (Pf + Pp) * 0.000145038\n",
    "\n",
    "            if friction_losses < head_pressure:\n",
    "                Q = Cv * math.sqrt(head_pressure - friction_losses) * (3785.41/60) # compute flow rate throught the solenoid based on head pressure losses in pipe and through restriction of solenoid\n",
    "                \n",
    "        flow_rate[i] = Q # store flow rate\n",
    "\n",
    "        current_water[i+1] = current_water[i] - flow_rate[i] # recalculate water volume based on flow rate out of pipe\n",
    "\n",
    "        if current_water[i] >= lower_volume: # calculate new water height in tank\n",
    "            water_height[i+1] = cartridge_height + (current_water[i]-lower_volume)/upper_volume * (height - cartridge_height)\n",
    "        else:\n",
    "            water_height[i+1] = (current_water[i]/lower_volume) * cartridge_height\n",
    "\n",
    "        i += 1\n",
    "        k += 1\n",
    "\n",
    "    actual_pour[j] = interval_water - current_water[i]\n",
    "\n",
    "    print(\"Pour volume [ml]\",j+1,\":\",actual_pour[j])\n",
    "    print(\"Length of Pour [s]:\",k)\n",
    "    if k > time[j]:\n",
    "        print(\"Increase head height for higher water flow.\")\n",
    "    if actual_pour[j] < pour[j]:\n",
    "        print(\"Not enough water poured in twice the time!!\")"
   ]
  },
  {
   "cell_type": "markdown",
   "metadata": {},
   "source": [
    "### Plot Process Data"
   ]
  },
  {
   "cell_type": "code",
   "execution_count": null,
   "metadata": {
    "collapsed": true
   },
   "outputs": [],
   "source": [
    "plt.plot(water_height - (height - tower_overHeight))\n",
    "plt.plot([0, 100],[cartridge_height- (height - tower_overHeight),cartridge_height- (height - tower_overHeight)],'--')\n",
    "plt.xlim(0, 100)\n",
    "plt.show()\n",
    "\n",
    "plt.plot(current_water[0]-current_water)\n",
    "plt.plot([0,15],[60,60],'--')\n",
    "plt.plot([15,15],[0,60],'--')\n",
    "plt.xlim(0, 100)\n",
    "plt.show()"
   ]
  }
 ],
 "metadata": {
  "kernelspec": {
   "display_name": "Python 3",
   "language": "python",
   "name": "python3"
  },
  "language_info": {
   "codemirror_mode": {
    "name": "ipython",
    "version": 3
   },
   "file_extension": ".py",
   "mimetype": "text/x-python",
   "name": "python",
   "nbconvert_exporter": "python",
   "pygments_lexer": "ipython3",
   "version": "3.6.0"
  }
 },
 "nbformat": 4,
 "nbformat_minor": 2
}
